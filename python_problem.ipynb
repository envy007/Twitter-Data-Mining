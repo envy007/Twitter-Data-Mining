{
  "nbformat": 4,
  "nbformat_minor": 0,
  "metadata": {
    "colab": {
      "name": "Untitled18.ipynb",
      "version": "0.3.2",
      "provenance": [],
      "collapsed_sections": []
    },
    "kernelspec": {
      "name": "python3",
      "display_name": "Python 3"
    }
  },
  "cells": [
    {
      "cell_type": "markdown",
      "metadata": {
        "id": "G4pSd7FACTZ0",
        "colab_type": "text"
      },
      "source": [
        "## Code is done on Google Colab, so some dependencies might not be already installed\n",
        "\n",
        "Install  Tweepy"
      ]
    },
    {
      "cell_type": "code",
      "metadata": {
        "id": "uiPqdQftnqkg",
        "colab_type": "code",
        "outputId": "f4b054e1-6fbf-4cea-f005-4e4688160c34",
        "colab": {
          "base_uri": "https://localhost:8080/",
          "height": 211
        }
      },
      "source": [
        "!pip install tweepy"
      ],
      "execution_count": 0,
      "outputs": [
        {
          "output_type": "stream",
          "text": [
            "Requirement already satisfied: tweepy in /usr/local/lib/python3.6/dist-packages (3.6.0)\n",
            "Requirement already satisfied: requests-oauthlib>=0.7.0 in /usr/local/lib/python3.6/dist-packages (from tweepy) (1.2.0)\n",
            "Requirement already satisfied: PySocks>=1.5.7 in /usr/local/lib/python3.6/dist-packages (from tweepy) (1.6.8)\n",
            "Requirement already satisfied: six>=1.10.0 in /usr/local/lib/python3.6/dist-packages (from tweepy) (1.11.0)\n",
            "Requirement already satisfied: requests>=2.11.1 in /usr/local/lib/python3.6/dist-packages (from tweepy) (2.18.4)\n",
            "Requirement already satisfied: oauthlib>=3.0.0 in /usr/local/lib/python3.6/dist-packages (from requests-oauthlib>=0.7.0->tweepy) (3.0.1)\n",
            "Requirement already satisfied: certifi>=2017.4.17 in /usr/local/lib/python3.6/dist-packages (from requests>=2.11.1->tweepy) (2019.3.9)\n",
            "Requirement already satisfied: idna<2.7,>=2.5 in /usr/local/lib/python3.6/dist-packages (from requests>=2.11.1->tweepy) (2.6)\n",
            "Requirement already satisfied: urllib3<1.23,>=1.21.1 in /usr/local/lib/python3.6/dist-packages (from requests>=2.11.1->tweepy) (1.22)\n",
            "Requirement already satisfied: chardet<3.1.0,>=3.0.2 in /usr/local/lib/python3.6/dist-packages (from requests>=2.11.1->tweepy) (3.0.4)\n"
          ],
          "name": "stdout"
        }
      ]
    },
    {
      "cell_type": "markdown",
      "metadata": {
        "id": "BxaM08lcCc0_",
        "colab_type": "text"
      },
      "source": [
        "Install Jsonlines"
      ]
    },
    {
      "cell_type": "code",
      "metadata": {
        "id": "JBu27pvJ5E7-",
        "colab_type": "code",
        "outputId": "28a8ae1e-0e3e-49ab-b2f3-2a1a637355e4",
        "colab": {
          "base_uri": "https://localhost:8080/",
          "height": 124
        }
      },
      "source": [
        "!pip install jsonlines"
      ],
      "execution_count": 0,
      "outputs": [
        {
          "output_type": "stream",
          "text": [
            "Collecting jsonlines\n",
            "  Downloading https://files.pythonhosted.org/packages/4f/9a/ab96291470e305504aa4b7a2e0ec132e930da89eb3ca7a82fbe03167c131/jsonlines-1.2.0-py2.py3-none-any.whl\n",
            "Requirement already satisfied: six in /usr/local/lib/python3.6/dist-packages (from jsonlines) (1.11.0)\n",
            "Installing collected packages: jsonlines\n",
            "Successfully installed jsonlines-1.2.0\n"
          ],
          "name": "stdout"
        }
      ]
    },
    {
      "cell_type": "markdown",
      "metadata": {
        "id": "N3FrDw1jChaa",
        "colab_type": "text"
      },
      "source": [
        "Import Required Libraries"
      ]
    },
    {
      "cell_type": "code",
      "metadata": {
        "id": "OR_bZmOq45JT",
        "colab_type": "code",
        "colab": {}
      },
      "source": [
        "import json\n",
        "import jsonlines\n",
        "import numpy as np"
      ],
      "execution_count": 0,
      "outputs": []
    },
    {
      "cell_type": "markdown",
      "metadata": {
        "id": "bVY4kBPTClid",
        "colab_type": "text"
      },
      "source": [
        "## Function to get Tweets"
      ]
    },
    {
      "cell_type": "code",
      "metadata": {
        "id": "3F8WYdtgn6ct",
        "colab_type": "code",
        "colab": {}
      },
      "source": [
        "import tweepy \n",
        "import pandas as pd\n",
        "  \n",
        "\"\"\"\n",
        "Enter you credentials provided by Twitter in the variables given below\n",
        "\"\"\"\n",
        "consumer_key = \"#####\" \n",
        "consumer_secret = \"#####\"\n",
        "access_key = \"#####\"\n",
        "access_secret = \"#####\"\n",
        "  \n",
        "  \n",
        "\"\"\"\n",
        "Function to extract Tweets\n",
        "\"\"\"\n",
        "\n",
        "def get_tweets(username): \n",
        "          \n",
        "        \n",
        "        auth = tweepy.OAuthHandler(consumer_key, consumer_secret) \n",
        "        auth.set_access_token(access_key, access_secret) \n",
        "  \n",
        "        api = tweepy.API(auth) \n",
        "      \n",
        "        # Empty list \"tmp\" \n",
        "        tmp=[]\n",
        "    \n",
        "        # Maximum limit is of 200 tweets\n",
        "      \n",
        "        count_of_tweets=200\n",
        "        tweets = api.user_timeline(screen_name=username, count=count_of_tweets) \n",
        "        \n",
        "        # Dump Tweets in a .jsonl file\n",
        "     \n",
        "        for twt in tweets: \n",
        "          tmp.append(twt._json)  \n",
        "          \n",
        "        # Since, we've not given any directory for file thus our file will be \n",
        "        #created in the current directory only          \n",
        "        \n",
        "        with jsonlines.open('data.jsonl', 'w') as f:\n",
        "          f.write(tmp)"
      ],
      "execution_count": 0,
      "outputs": []
    },
    {
      "cell_type": "markdown",
      "metadata": {
        "id": "wV2x_opoDd66",
        "colab_type": "text"
      },
      "source": [
        "## Get Tweets from *@midasIIITD* and save them in .jsonl file "
      ]
    },
    {
      "cell_type": "code",
      "metadata": {
        "id": "8Wlp3VJ_yhSo",
        "colab_type": "code",
        "colab": {}
      },
      "source": [
        "get_tweets('midasIIITD')"
      ],
      "execution_count": 0,
      "outputs": []
    },
    {
      "cell_type": "markdown",
      "metadata": {
        "id": "rCaVdcWhDqkE",
        "colab_type": "text"
      },
      "source": [
        "## Function to get number of Pictures/Images in every tweet"
      ]
    },
    {
      "cell_type": "code",
      "metadata": {
        "id": "VZGDRaG908h6",
        "colab_type": "code",
        "colab": {}
      },
      "source": [
        "def get_number_of_images(tweet):\n",
        "  \n",
        "  return [len([pic for pic in ix['extended_entities']['media'] if pic['type'] == 'photo'])\n",
        "                        if 'extended_entities' in ix else None for ix in tweet]"
      ],
      "execution_count": 0,
      "outputs": []
    },
    {
      "cell_type": "markdown",
      "metadata": {
        "id": "flK2jiYMzLIN",
        "colab_type": "text"
      },
      "source": [
        "## Loading Data from \"data.jsonl\" file to \"tweet\" variable . The data loaded is in the form of a List"
      ]
    },
    {
      "cell_type": "code",
      "metadata": {
        "id": "XYluvPARw1_j",
        "colab_type": "code",
        "colab": {}
      },
      "source": [
        "\n",
        "def get_tweets_from_json(path):\n",
        "  \n",
        "  with jsonlines.open(path,'r') as f:\n",
        "    tweet = f.read()\n",
        "    \n",
        "  print(type(tweet))\n",
        "  \n",
        "  df = pd.DataFrame([[twt['text'] , twt['created_at'] , twt['favorite_count'] , twt['retweet_count']] for twt in tweet] , \n",
        "                    columns = ['Tweet','Created_at','Number of Likes/Favorites','Retweets'])\n",
        "  \n",
        "  print(df.head())\n",
        "  \n",
        "  df['Number_of_Images'] = get_number_of_images(tweet)\n",
        "  \n",
        "  return df"
      ],
      "execution_count": 0,
      "outputs": []
    },
    {
      "cell_type": "markdown",
      "metadata": {
        "id": "C8MUmsvsD4qD",
        "colab_type": "text"
      },
      "source": [
        "## Converting DataFrame to .csv file named as \"Tweets.csv\""
      ]
    },
    {
      "cell_type": "code",
      "metadata": {
        "id": "fjXj7sd7y9wj",
        "colab_type": "code",
        "outputId": "b27f6108-e508-41f5-cabe-6c817751ebe2",
        "colab": {
          "base_uri": "https://localhost:8080/",
          "height": 260
        }
      },
      "source": [
        "df = get_tweets_from_json('./data.jsonl')\n",
        "df.to_csv('Tweets.csv',header = True, index = False)"
      ],
      "execution_count": 0,
      "outputs": [
        {
          "output_type": "stream",
          "text": [
            "<class 'list'>\n",
            "                                               Tweet  \\\n",
            "0  Clarification: Our earlier post which indicate...   \n",
            "1  RT @IIITDelhi: Applications open for MTech (CB...   \n",
            "2  RT @IIITDelhi: We are delighted to share that ...   \n",
            "3  RT @Harvard: Professor Jelani Nelson founded A...   \n",
            "4  RT @emnlp2019: For anyone interested in submit...   \n",
            "\n",
            "                       Created_at  Number of Likes/Favorites  Retweets  \n",
            "0  Wed Apr 10 09:01:29 +0000 2019                          0         0  \n",
            "1  Wed Apr 10 04:51:26 +0000 2019                          0         1  \n",
            "2  Tue Apr 09 16:45:07 +0000 2019                          0        14  \n",
            "3  Tue Apr 09 05:04:27 +0000 2019                          0        36  \n",
            "4  Tue Apr 09 05:04:11 +0000 2019                          0        17  \n"
          ],
          "name": "stdout"
        }
      ]
    },
    {
      "cell_type": "markdown",
      "metadata": {
        "id": "4R7dvEuBEELg",
        "colab_type": "text"
      },
      "source": [
        "## Reading data from saved CSV file"
      ]
    },
    {
      "cell_type": "code",
      "metadata": {
        "id": "dTbL1idOodpv",
        "colab_type": "code",
        "colab": {}
      },
      "source": [
        "data = pd.read_csv('./Tweets.csv')"
      ],
      "execution_count": 0,
      "outputs": []
    },
    {
      "cell_type": "code",
      "metadata": {
        "id": "oe9Yvu85pkhL",
        "colab_type": "code",
        "outputId": "d4c8c16e-fb35-4f3e-f63f-7d0dbace2f5b",
        "colab": {
          "base_uri": "https://localhost:8080/",
          "height": 34
        }
      },
      "source": [
        "type(data)"
      ],
      "execution_count": 0,
      "outputs": [
        {
          "output_type": "execute_result",
          "data": {
            "text/plain": [
              "pandas.core.frame.DataFrame"
            ]
          },
          "metadata": {
            "tags": []
          },
          "execution_count": 58
        }
      ]
    },
    {
      "cell_type": "markdown",
      "metadata": {
        "id": "oPuJWROzEIOC",
        "colab_type": "text"
      },
      "source": [
        "## Displaying Data stored in CSV file"
      ]
    },
    {
      "cell_type": "code",
      "metadata": {
        "id": "s9WhRSetrLzg",
        "colab_type": "code",
        "outputId": "5383ae0d-8cfa-4287-bf61-740abffd9dd6",
        "colab": {
          "base_uri": "https://localhost:8080/",
          "height": 554
        }
      },
      "source": [
        "data.head(10)"
      ],
      "execution_count": 0,
      "outputs": [
        {
          "output_type": "execute_result",
          "data": {
            "text/html": [
              "<div>\n",
              "<style scoped>\n",
              "    .dataframe tbody tr th:only-of-type {\n",
              "        vertical-align: middle;\n",
              "    }\n",
              "\n",
              "    .dataframe tbody tr th {\n",
              "        vertical-align: top;\n",
              "    }\n",
              "\n",
              "    .dataframe thead th {\n",
              "        text-align: right;\n",
              "    }\n",
              "</style>\n",
              "<table border=\"1\" class=\"dataframe\">\n",
              "  <thead>\n",
              "    <tr style=\"text-align: right;\">\n",
              "      <th></th>\n",
              "      <th>Tweet</th>\n",
              "      <th>Created_at</th>\n",
              "      <th>Number of Likes/Favorites</th>\n",
              "      <th>Retweets</th>\n",
              "      <th>Number_of_Images</th>\n",
              "    </tr>\n",
              "  </thead>\n",
              "  <tbody>\n",
              "    <tr>\n",
              "      <th>0</th>\n",
              "      <td>Clarification: Our earlier post which indicate...</td>\n",
              "      <td>Wed Apr 10 09:01:29 +0000 2019</td>\n",
              "      <td>0</td>\n",
              "      <td>0</td>\n",
              "      <td>NaN</td>\n",
              "    </tr>\n",
              "    <tr>\n",
              "      <th>1</th>\n",
              "      <td>RT @IIITDelhi: Applications open for MTech (CB...</td>\n",
              "      <td>Wed Apr 10 04:51:26 +0000 2019</td>\n",
              "      <td>0</td>\n",
              "      <td>1</td>\n",
              "      <td>NaN</td>\n",
              "    </tr>\n",
              "    <tr>\n",
              "      <th>2</th>\n",
              "      <td>RT @IIITDelhi: We are delighted to share that ...</td>\n",
              "      <td>Tue Apr 09 16:45:07 +0000 2019</td>\n",
              "      <td>0</td>\n",
              "      <td>14</td>\n",
              "      <td>NaN</td>\n",
              "    </tr>\n",
              "    <tr>\n",
              "      <th>3</th>\n",
              "      <td>RT @Harvard: Professor Jelani Nelson founded A...</td>\n",
              "      <td>Tue Apr 09 05:04:27 +0000 2019</td>\n",
              "      <td>0</td>\n",
              "      <td>36</td>\n",
              "      <td>NaN</td>\n",
              "    </tr>\n",
              "    <tr>\n",
              "      <th>4</th>\n",
              "      <td>RT @emnlp2019: For anyone interested in submit...</td>\n",
              "      <td>Tue Apr 09 05:04:11 +0000 2019</td>\n",
              "      <td>0</td>\n",
              "      <td>17</td>\n",
              "      <td>NaN</td>\n",
              "    </tr>\n",
              "    <tr>\n",
              "      <th>5</th>\n",
              "      <td>RT @multimediaeval: Announcing the 2019 MediaE...</td>\n",
              "      <td>Mon Apr 08 19:38:09 +0000 2019</td>\n",
              "      <td>0</td>\n",
              "      <td>15</td>\n",
              "      <td>NaN</td>\n",
              "    </tr>\n",
              "    <tr>\n",
              "      <th>6</th>\n",
              "      <td>Many Congratulations to @midasIIITD student, S...</td>\n",
              "      <td>Mon Apr 08 07:08:12 +0000 2019</td>\n",
              "      <td>18</td>\n",
              "      <td>2</td>\n",
              "      <td>NaN</td>\n",
              "    </tr>\n",
              "    <tr>\n",
              "      <th>7</th>\n",
              "      <td>@midasIIITD thanks all students who have appea...</td>\n",
              "      <td>Mon Apr 08 03:27:42 +0000 2019</td>\n",
              "      <td>5</td>\n",
              "      <td>0</td>\n",
              "      <td>NaN</td>\n",
              "    </tr>\n",
              "    <tr>\n",
              "      <th>8</th>\n",
              "      <td>@himanchalchandr Meanwhile, complete CV/NLP ta...</td>\n",
              "      <td>Sun Apr 07 14:17:29 +0000 2019</td>\n",
              "      <td>0</td>\n",
              "      <td>0</td>\n",
              "      <td>NaN</td>\n",
              "    </tr>\n",
              "    <tr>\n",
              "      <th>9</th>\n",
              "      <td>@sayangdipto123 Submit as per the guideline ag...</td>\n",
              "      <td>Sun Apr 07 14:17:09 +0000 2019</td>\n",
              "      <td>0</td>\n",
              "      <td>0</td>\n",
              "      <td>NaN</td>\n",
              "    </tr>\n",
              "  </tbody>\n",
              "</table>\n",
              "</div>"
            ],
            "text/plain": [
              "                                               Tweet  \\\n",
              "0  Clarification: Our earlier post which indicate...   \n",
              "1  RT @IIITDelhi: Applications open for MTech (CB...   \n",
              "2  RT @IIITDelhi: We are delighted to share that ...   \n",
              "3  RT @Harvard: Professor Jelani Nelson founded A...   \n",
              "4  RT @emnlp2019: For anyone interested in submit...   \n",
              "5  RT @multimediaeval: Announcing the 2019 MediaE...   \n",
              "6  Many Congratulations to @midasIIITD student, S...   \n",
              "7  @midasIIITD thanks all students who have appea...   \n",
              "8  @himanchalchandr Meanwhile, complete CV/NLP ta...   \n",
              "9  @sayangdipto123 Submit as per the guideline ag...   \n",
              "\n",
              "                       Created_at  Number of Likes/Favorites  Retweets  \\\n",
              "0  Wed Apr 10 09:01:29 +0000 2019                          0         0   \n",
              "1  Wed Apr 10 04:51:26 +0000 2019                          0         1   \n",
              "2  Tue Apr 09 16:45:07 +0000 2019                          0        14   \n",
              "3  Tue Apr 09 05:04:27 +0000 2019                          0        36   \n",
              "4  Tue Apr 09 05:04:11 +0000 2019                          0        17   \n",
              "5  Mon Apr 08 19:38:09 +0000 2019                          0        15   \n",
              "6  Mon Apr 08 07:08:12 +0000 2019                         18         2   \n",
              "7  Mon Apr 08 03:27:42 +0000 2019                          5         0   \n",
              "8  Sun Apr 07 14:17:29 +0000 2019                          0         0   \n",
              "9  Sun Apr 07 14:17:09 +0000 2019                          0         0   \n",
              "\n",
              "   Number_of_Images  \n",
              "0               NaN  \n",
              "1               NaN  \n",
              "2               NaN  \n",
              "3               NaN  \n",
              "4               NaN  \n",
              "5               NaN  \n",
              "6               NaN  \n",
              "7               NaN  \n",
              "8               NaN  \n",
              "9               NaN  "
            ]
          },
          "metadata": {
            "tags": []
          },
          "execution_count": 59
        }
      ]
    },
    {
      "cell_type": "code",
      "metadata": {
        "id": "-N3zcTGMCLHM",
        "colab_type": "code",
        "colab": {}
      },
      "source": [
        ""
      ],
      "execution_count": 0,
      "outputs": []
    }
  ]
}