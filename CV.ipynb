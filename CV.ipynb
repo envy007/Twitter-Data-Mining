{
  "nbformat": 4,
  "nbformat_minor": 0,
  "metadata": {
    "colab": {
      "name": "CV.ipynb",
      "version": "0.3.2",
      "provenance": [],
      "collapsed_sections": [],
      "toc_visible": true
    },
    "kernelspec": {
      "display_name": "Python 3",
      "language": "python",
      "name": "python3"
    },
    "language_info": {
      "codemirror_mode": {
        "name": "ipython",
        "version": 3
      },
      "file_extension": ".py",
      "mimetype": "text/x-python",
      "name": "python",
      "nbconvert_exporter": "python",
      "pygments_lexer": "ipython3",
      "version": "3.5.2"
    }
  },
  "cells": [
    {
      "cell_type": "markdown",
      "metadata": {
        "colab_type": "text",
        "id": "7yaLXlInzOpg"
      },
      "source": [
        "## Importing Necessary libraries"
      ]
    },
    {
      "cell_type": "code",
      "metadata": {
        "colab_type": "code",
        "id": "GloCPCy5ugdm",
        "colab": {}
      },
      "source": [
        "import numpy as np\n",
        "import pandas as pd\n",
        "import torch\n",
        "from torch.autograd import Variable\n",
        "import torch.nn.functional as F\n",
        "from torch import nn\n",
        "import matplotlib.pyplot as plt\n",
        "%matplotlib inline\n",
        "import pickle"
      ],
      "execution_count": 0,
      "outputs": []
    },
    {
      "cell_type": "markdown",
      "metadata": {
        "colab_type": "text",
        "id": "uj37pbOtziG-"
      },
      "source": [
        "## Opening the training files using pickle and loading them as list."
      ]
    },
    {
      "cell_type": "code",
      "metadata": {
        "colab_type": "code",
        "id": "FuDAOOLMuxox",
        "colab": {}
      },
      "source": [
        "with open('train_image.pkl','rb') as f:\n",
        "  X = pickle.load(f)\n",
        "\n",
        "with open('train_label.pkl','rb') as f:\n",
        "  Y = pickle.load(f)"
      ],
      "execution_count": 0,
      "outputs": []
    },
    {
      "cell_type": "markdown",
      "metadata": {
        "colab_type": "text",
        "id": "6wyYXiN41QdE"
      },
      "source": [
        "## 'X' and 'Y' are of type \"List\""
      ]
    },
    {
      "cell_type": "code",
      "metadata": {
        "colab_type": "code",
        "id": "GX1RmIKwu4DI",
        "outputId": "4669fe08-b61c-4117-e4ec-f839d08c7582",
        "colab": {
          "base_uri": "https://localhost:8080/",
          "height": 52
        }
      },
      "source": [
        "print(type(X))\n",
        "print(type(Y))"
      ],
      "execution_count": 0,
      "outputs": [
        {
          "output_type": "stream",
          "text": [
            "<class 'list'>\n",
            "<class 'list'>\n"
          ],
          "name": "stdout"
        }
      ]
    },
    {
      "cell_type": "markdown",
      "metadata": {
        "colab_type": "text",
        "id": "_ZXJ3u_C1XWO"
      },
      "source": [
        "## Converting the lists to Arrays"
      ]
    },
    {
      "cell_type": "code",
      "metadata": {
        "colab_type": "code",
        "id": "yuHlCflxu027",
        "outputId": "fbd669f6-bd50-4a06-8567-71aaf8573294",
        "colab": {
          "base_uri": "https://localhost:8080/",
          "height": 52
        }
      },
      "source": [
        "X = np.array(X)\n",
        "Y = np.array(Y)\n",
        "\n",
        "print(type(X))\n",
        "print(type(Y))"
      ],
      "execution_count": 0,
      "outputs": [
        {
          "output_type": "stream",
          "text": [
            "<class 'numpy.ndarray'>\n",
            "<class 'numpy.ndarray'>\n"
          ],
          "name": "stdout"
        }
      ]
    },
    {
      "cell_type": "markdown",
      "metadata": {
        "colab_type": "text",
        "id": "9Ds3RFd-1d1L"
      },
      "source": [
        "## Displaying an Image data point from training DataSet"
      ]
    },
    {
      "cell_type": "code",
      "metadata": {
        "colab_type": "code",
        "id": "D3QeePO7qZXA",
        "outputId": "724ecea4-59a9-4912-cdf0-d1637cff1c38",
        "colab": {
          "base_uri": "https://localhost:8080/",
          "height": 286
        }
      },
      "source": [
        "img = X[0,:].reshape(28,28)\n",
        "plt.grid(False)\n",
        "plt.imshow(img,cmap = \"gray\")\n"
      ],
      "execution_count": 0,
      "outputs": [
        {
          "output_type": "execute_result",
          "data": {
            "text/plain": [
              "<matplotlib.image.AxesImage at 0x7fddeac1ef28>"
            ]
          },
          "metadata": {
            "tags": []
          },
          "execution_count": 5
        },
        {
          "output_type": "display_data",
          "data": {
            "image/png": "[encoded data removed]",
            "text/plain": [
              "<Figure size 432x288 with 1 Axes>"
            ]
          },
          "metadata": {
            "tags": []
          }
        }
      ]
    },
    {
      "cell_type": "markdown",
      "metadata": {
        "colab_type": "text",
        "id": "KyxhbZms3HUl"
      },
      "source": [
        "## The Classes for images are \"0\" , \"2\" , \"3\" , \"6\" and each class has 2000 instances, thus our Dataset is Balanced."
      ]
    },
    {
      "cell_type": "code",
      "metadata": {
        "colab_type": "code",
        "id": "f_Flz-Pv25pB",
        "outputId": "0430c7cb-60ee-48d9-cb5e-62ee823dc27b",
        "colab": {
          "base_uri": "https://localhost:8080/",
          "height": 34
        }
      },
      "source": [
        "print(np.unique(Y,return_counts = True))"
      ],
      "execution_count": 0,
      "outputs": [
        {
          "output_type": "stream",
          "text": [
            "(array([0, 2, 3, 6]), array([2000, 2000, 2000, 2000]))\n"
          ],
          "name": "stdout"
        }
      ]
    },
    {
      "cell_type": "markdown",
      "metadata": {
        "colab_type": "text",
        "id": "gJEsVER52tI_"
      },
      "source": [
        "## Changing Label of images to continuous numbers\n",
        "\n",
        "We've to change the labels of images from [0,2,3,6] to [0,1,2,3] because if we don't change it then it'll cause problem in computing Loss for our Model and that's because we've got only 4 classes and the last class has number 6 and during computation, it checks whether **class number** is greater than the **total number of classes** or not (Here, 6 which is class number will be greater than 4 which is total number of classes). Thus, for that matter error will occur."
      ]
    },
    {
      "cell_type": "code",
      "metadata": {
        "colab_type": "code",
        "id": "Nofmi0gjv9B1",
        "colab": {}
      },
      "source": [
        "Y[Y == 2] = 1\n",
        "Y[Y == 3] = 2\n",
        "Y[Y == 6] = 3"
      ],
      "execution_count": 0,
      "outputs": []
    },
    {
      "cell_type": "code",
      "metadata": {
        "colab_type": "code",
        "id": "0g2pwQp7wKXr",
        "outputId": "4b305b5e-eb29-4eaa-a66b-ac9714ffab20",
        "colab": {
          "base_uri": "https://localhost:8080/",
          "height": 34
        }
      },
      "source": [
        "print(np.unique(Y,return_counts = True))"
      ],
      "execution_count": 0,
      "outputs": [
        {
          "output_type": "stream",
          "text": [
            "(array([0, 1, 2, 3]), array([2000, 2000, 2000, 2000]))\n"
          ],
          "name": "stdout"
        }
      ]
    },
    {
      "cell_type": "code",
      "metadata": {
        "colab_type": "code",
        "id": "zz3vnb8LwaQd",
        "outputId": "1df16e49-0b34-4dce-c1a4-b256f876fd47",
        "colab": {
          "base_uri": "https://localhost:8080/",
          "height": 52
        }
      },
      "source": [
        "print(X.shape)\n",
        "print(Y.shape)"
      ],
      "execution_count": 0,
      "outputs": [
        {
          "output_type": "stream",
          "text": [
            "(8000, 784)\n",
            "(8000,)\n"
          ],
          "name": "stdout"
        }
      ]
    },
    {
      "cell_type": "markdown",
      "metadata": {
        "colab_type": "text",
        "id": "Sq06LOpM56yi"
      },
      "source": [
        "We can see that our data is **NOT** randomly distributed. \n",
        "\n",
        "First 2000 images belong to class 0. \n",
        "\n",
        "From 2000 - 4000 images belong to class 1.\n",
        "\n",
        "From 4000 - 6000 images belong to class 2.\n",
        "\n",
        "From 6000 - 8000 images belong to class 3."
      ]
    },
    {
      "cell_type": "code",
      "metadata": {
        "colab_type": "code",
        "id": "ZemtbYK75jqP",
        "outputId": "ba307bc3-a147-48f9-ec05-a600a67991f6",
        "colab": {
          "base_uri": "https://localhost:8080/",
          "height": 86
        }
      },
      "source": [
        "print(np.unique(Y[:2000],return_counts = True))\n",
        "print(np.unique(Y[2000:4000],return_counts = True))\n",
        "print(np.unique(Y[4000:6000],return_counts = True))\n",
        "print(np.unique(Y[6000:8000],return_counts = True))"
      ],
      "execution_count": 0,
      "outputs": [
        {
          "output_type": "stream",
          "text": [
            "(array([0]), array([2000]))\n",
            "(array([1]), array([2000]))\n",
            "(array([2]), array([2000]))\n",
            "(array([3]), array([2000]))\n"
          ],
          "name": "stdout"
        }
      ]
    },
    {
      "cell_type": "markdown",
      "metadata": {
        "colab_type": "text",
        "id": "xuZfiiY95RoY"
      },
      "source": [
        "## We concatenate 'X' and 'Y'\n",
        "\n",
        "We concatenate 'X' and 'Y' because, we've to shuffle the final array formed to make data randomly distributed. If data is not randomly distributed then our model can give biased results, which we don't want."
      ]
    },
    {
      "cell_type": "code",
      "metadata": {
        "colab_type": "code",
        "id": "sDspG16gBNQ7",
        "colab": {}
      },
      "source": [
        "data = np.concatenate((X,Y[:,None]) , axis = 1)"
      ],
      "execution_count": 0,
      "outputs": []
    },
    {
      "cell_type": "code",
      "metadata": {
        "colab_type": "code",
        "id": "AUIFtxghBpok",
        "outputId": "16b5c667-8669-4902-8d82-f4549bbd6ecd",
        "colab": {
          "base_uri": "https://localhost:8080/",
          "height": 52
        }
      },
      "source": [
        "print(np.unique(data[:,-1],return_counts = True))\n",
        "df = pd.DataFrame(data)\n",
        "print(np.unique(df.iloc[:,-1],return_counts = True))\n"
      ],
      "execution_count": 0,
      "outputs": [
        {
          "output_type": "stream",
          "text": [
            "(array([0, 1, 2, 3]), array([2000, 2000, 2000, 2000]))\n",
            "(array([0, 1, 2, 3]), array([2000, 2000, 2000, 2000]))\n"
          ],
          "name": "stdout"
        }
      ]
    },
    {
      "cell_type": "markdown",
      "metadata": {
        "colab_type": "text",
        "id": "ggFU4Bgl6-_T"
      },
      "source": [
        "## Shuffling of Data"
      ]
    },
    {
      "cell_type": "code",
      "metadata": {
        "colab_type": "code",
        "id": "KYkmQoAYBsS9",
        "outputId": "b0d58868-a33d-48f0-ffbd-82af0b57c22a",
        "colab": {
          "base_uri": "https://localhost:8080/",
          "height": 34
        }
      },
      "source": [
        "df = df.sample(frac = 1).reset_index(drop = True)\n",
        "print(np.unique(df.iloc[:,-1],return_counts = True))"
      ],
      "execution_count": 0,
      "outputs": [
        {
          "output_type": "stream",
          "text": [
            "(array([0, 1, 2, 3]), array([2000, 2000, 2000, 2000]))\n"
          ],
          "name": "stdout"
        }
      ]
    },
    {
      "cell_type": "code",
      "metadata": {
        "colab_type": "code",
        "id": "1-MHIYLGc0dF",
        "outputId": "6c580263-85b2-4d71-821d-dade517ea0cb",
        "colab": {
          "base_uri": "https://localhost:8080/",
          "height": 34
        }
      },
      "source": [
        "data = df.values\n",
        "print(type(data))"
      ],
      "execution_count": 0,
      "outputs": [
        {
          "output_type": "stream",
          "text": [
            "<class 'numpy.ndarray'>\n"
          ],
          "name": "stdout"
        }
      ]
    },
    {
      "cell_type": "markdown",
      "metadata": {
        "colab_type": "text",
        "id": "GzsWosa17E_B"
      },
      "source": [
        "## Checking first 100 labels of our data"
      ]
    },
    {
      "cell_type": "code",
      "metadata": {
        "colab_type": "code",
        "id": "7jdZjJzJFxD5",
        "outputId": "5ff65196-a68d-425d-bb5f-d2683e260023",
        "colab": {
          "base_uri": "https://localhost:8080/",
          "height": 104
        }
      },
      "source": [
        "data[:100,-1]"
      ],
      "execution_count": 0,
      "outputs": [
        {
          "output_type": "execute_result",
          "data": {
            "text/plain": [
              "array([0, 2, 0, 3, 2, 3, 0, 3, 1, 0, 3, 0, 1, 1, 2, 1, 0, 3, 3, 3, 2, 1,\n",
              "       3, 0, 3, 3, 1, 3, 1, 3, 3, 3, 0, 1, 1, 2, 1, 1, 3, 2, 3, 2, 3, 3,\n",
              "       0, 1, 2, 1, 3, 3, 2, 2, 3, 0, 3, 2, 1, 1, 0, 2, 0, 0, 0, 2, 2, 2,\n",
              "       3, 1, 1, 3, 0, 2, 2, 1, 2, 2, 0, 0, 0, 2, 1, 3, 3, 0, 0, 1, 1, 2,\n",
              "       2, 2, 1, 0, 2, 3, 2, 0, 0, 3, 2, 0])"
            ]
          },
          "metadata": {
            "tags": []
          },
          "execution_count": 15
        }
      ]
    },
    {
      "cell_type": "markdown",
      "metadata": {
        "colab_type": "text",
        "id": "Znxf-cK_7L4-"
      },
      "source": [
        "## Data Preparation"
      ]
    },
    {
      "cell_type": "code",
      "metadata": {
        "colab_type": "code",
        "id": "W-Xs1KfDFzYV",
        "outputId": "e6a44a00-8a3b-4990-db75-b20a48d60e9c",
        "colab": {
          "base_uri": "https://localhost:8080/",
          "height": 34
        }
      },
      "source": [
        "X_train = data[:7000,:784] / 255.0\n",
        "Y_train = data[:7000,-1]\n",
        "\n",
        "X_val = data[7000:,:784] / 255.0\n",
        "Y_val = data[7000:,-1]\n",
        "\n",
        "print(X_train.shape, Y_train.shape)"
      ],
      "execution_count": 0,
      "outputs": [
        {
          "output_type": "stream",
          "text": [
            "(7000, 784) (7000,)\n"
          ],
          "name": "stdout"
        }
      ]
    },
    {
      "cell_type": "markdown",
      "metadata": {
        "colab_type": "text",
        "id": "ueSbT0io7Vkf"
      },
      "source": [
        "## Checking that each Training and Validation set contain all the classes"
      ]
    },
    {
      "cell_type": "code",
      "metadata": {
        "colab_type": "code",
        "id": "XS5VJqOQpWWt",
        "outputId": "b5408da6-7008-452b-b97d-a09db62e90bf",
        "colab": {
          "base_uri": "https://localhost:8080/",
          "height": 52
        }
      },
      "source": [
        "print(np.unique(Y_train))\n",
        "print(np.unique(Y_val))"
      ],
      "execution_count": 0,
      "outputs": [
        {
          "output_type": "stream",
          "text": [
            "[0 1 2 3]\n",
            "[0 1 2 3]\n"
          ],
          "name": "stdout"
        }
      ]
    },
    {
      "cell_type": "markdown",
      "metadata": {
        "colab_type": "text",
        "id": "JrCEKWIP7fed"
      },
      "source": [
        "## Building Model"
      ]
    },
    {
      "cell_type": "code",
      "metadata": {
        "colab_type": "code",
        "id": "_jN_Cl2NF_Ct",
        "colab": {}
      },
      "source": [
        "class Net(torch.nn.Module):\n",
        "    def __init__(self,n_feature,hidden_01,hidden_02,hidden_03,n_output):\n",
        "        super(Net,self).__init__()\n",
        "        self.hidden_01 = torch.nn.Linear(n_feature,hidden_01)\n",
        "        self.hidden_02 = torch.nn.Linear(hidden_01,hidden_02)\n",
        "        self.hidden_03 = torch.nn.Linear(hidden_02,hidden_03)\n",
        "        self.n_output = torch.nn.Linear(hidden_03,n_output)\n",
        "        \n",
        "    def forward(self,x):\n",
        "        x = F.relu(self.hidden_01(x))\n",
        "        x = F.relu(self.hidden_02(x))\n",
        "        x = F.relu(self.hidden_03(x))\n",
        "        x = F.log_softmax(self.n_output(x))\n",
        "        return x"
      ],
      "execution_count": 0,
      "outputs": []
    },
    {
      "cell_type": "markdown",
      "metadata": {
        "colab_type": "text",
        "id": "r9eos0PO7jXe"
      },
      "source": [
        "## Our Model is a Neural Net with structure:\n",
        "\n",
        "784 --> 300 --> 100 --> 16 --> 4"
      ]
    },
    {
      "cell_type": "code",
      "metadata": {
        "colab_type": "code",
        "id": "Dwb9GVoHTo6K",
        "outputId": "5746b747-ae19-43dd-870d-979e2b8d5e95",
        "colab": {
          "base_uri": "https://localhost:8080/",
          "height": 121
        }
      },
      "source": [
        "net = Net(n_feature = 784, hidden_01 = 300, hidden_02 = 100, hidden_03 = 16,n_output = 4)\n",
        "print(net)\n",
        "\n",
        "#optimizer = torch.optim.Adam(net.parameters(),lr=0.1)\n",
        "loss_func = torch.nn.CrossEntropyLoss()"
      ],
      "execution_count": 0,
      "outputs": [
        {
          "output_type": "stream",
          "text": [
            "Net(\n",
            "  (hidden_01): Linear(in_features=784, out_features=300, bias=True)\n",
            "  (hidden_02): Linear(in_features=300, out_features=100, bias=True)\n",
            "  (hidden_03): Linear(in_features=100, out_features=16, bias=True)\n",
            "  (n_output): Linear(in_features=16, out_features=4, bias=True)\n",
            ")\n"
          ],
          "name": "stdout"
        }
      ]
    },
    {
      "cell_type": "markdown",
      "metadata": {
        "colab_type": "text",
        "id": "LXQQiiqs9z-E"
      },
      "source": [
        "## Adam Optimizer is used with Learning Rate of 0.001"
      ]
    },
    {
      "cell_type": "code",
      "metadata": {
        "colab_type": "code",
        "id": "zAKtKL1HTrz3",
        "colab": {}
      },
      "source": [
        "opt=torch.optim.Adam(net.parameters(),lr=0.001)"
      ],
      "execution_count": 0,
      "outputs": []
    },
    {
      "cell_type": "markdown",
      "metadata": {
        "colab_type": "text",
        "id": "VRJNKv1w72KG"
      },
      "source": [
        "## Converting Training data to Tensors"
      ]
    },
    {
      "cell_type": "code",
      "metadata": {
        "colab_type": "code",
        "id": "Nmg1aNTqT4hM",
        "outputId": "d262e6c1-60c4-4700-9bd5-f0176d632b5a",
        "colab": {
          "base_uri": "https://localhost:8080/",
          "height": 52
        }
      },
      "source": [
        "X1 = torch.tensor(X_train).type(torch.FloatTensor)\n",
        "Y1 = torch.tensor(Y_train).type(torch.FloatTensor)\n",
        "\n",
        "print(X1.dtype)\n",
        "print(Y1.dtype)"
      ],
      "execution_count": 0,
      "outputs": [
        {
          "output_type": "stream",
          "text": [
            "torch.float32\n",
            "torch.float32\n"
          ],
          "name": "stdout"
        }
      ]
    },
    {
      "cell_type": "markdown",
      "metadata": {
        "colab_type": "text",
        "id": "WdQC9cJ477E5"
      },
      "source": [
        "## Converting Training Tensors to Variables"
      ]
    },
    {
      "cell_type": "code",
      "metadata": {
        "colab_type": "code",
        "id": "UB0TgoTMTuDF",
        "outputId": "55f847d6-d476-4fe1-d969-95b109b40264",
        "colab": {
          "base_uri": "https://localhost:8080/",
          "height": 69
        }
      },
      "source": [
        "X_train = Variable(X1, requires_grad=True).type(torch.FloatTensor)\n",
        "Y_train = Variable(Y1, requires_grad=False).type(torch.LongTensor)\n",
        "\n",
        "print(X_train.dtype)\n",
        "print(Y_train.dtype)\n",
        "print(Y_train.shape)"
      ],
      "execution_count": 0,
      "outputs": [
        {
          "output_type": "stream",
          "text": [
            "torch.float32\n",
            "torch.int64\n",
            "torch.Size([7000])\n"
          ],
          "name": "stdout"
        }
      ]
    },
    {
      "cell_type": "markdown",
      "metadata": {
        "colab_type": "text",
        "id": "26gAO1qr8Bo6"
      },
      "source": [
        "## Training our Model on Training Data"
      ]
    },
    {
      "cell_type": "code",
      "metadata": {
        "colab_type": "code",
        "id": "0DtxTpfiT09b",
        "outputId": "278f98b4-9b5e-4d8b-fab5-c66072871cb3",
        "colab": {
          "base_uri": "https://localhost:8080/",
          "height": 2078
        }
      },
      "source": [
        "err = []\n",
        "\n",
        "for ix in range(100):\n",
        "    \n",
        "    out = net(X_train)\n",
        "    loss = loss_func(out,Y_train)\n",
        "    \n",
        "    opt.zero_grad()\n",
        "    loss.backward()\n",
        "    opt.step()\n",
        "    \n",
        "    err.append(loss)\n",
        "    print(loss)\n",
        "    \n",
        "plt.plot(err[:])"
      ],
      "execution_count": 0,
      "outputs": [
        {
          "output_type": "stream",
          "text": [
            "/usr/local/lib/python3.6/dist-packages/ipykernel_launcher.py:13: UserWarning: Implicit dimension choice for log_softmax has been deprecated. Change the call to include dim=X as an argument.\n",
            "  del sys.path[0]\n"
          ],
          "name": "stderr"
        },
        {
          "output_type": "stream",
          "text": [
            "tensor(1.3956, grad_fn=<NllLossBackward>)\n",
            "tensor(1.3826, grad_fn=<NllLossBackward>)\n",
            "tensor(1.3618, grad_fn=<NllLossBackward>)\n",
            "tensor(1.3350, grad_fn=<NllLossBackward>)\n",
            "tensor(1.3010, grad_fn=<NllLossBackward>)\n",
            "tensor(1.2611, grad_fn=<NllLossBackward>)\n",
            "tensor(1.2188, grad_fn=<NllLossBackward>)\n",
            "tensor(1.1739, grad_fn=<NllLossBackward>)\n",
            "tensor(1.1281, grad_fn=<NllLossBackward>)\n",
            "tensor(1.0831, grad_fn=<NllLossBackward>)\n",
            "tensor(1.0373, grad_fn=<NllLossBackward>)\n",
            "tensor(0.9954, grad_fn=<NllLossBackward>)\n",
            "tensor(0.9559, grad_fn=<NllLossBackward>)\n",
            "tensor(0.9190, grad_fn=<NllLossBackward>)\n",
            "tensor(0.8864, grad_fn=<NllLossBackward>)\n",
            "tensor(0.8565, grad_fn=<NllLossBackward>)\n",
            "tensor(0.8308, grad_fn=<NllLossBackward>)\n",
            "tensor(0.8072, grad_fn=<NllLossBackward>)\n",
            "tensor(0.7862, grad_fn=<NllLossBackward>)\n",
            "tensor(0.7678, grad_fn=<NllLossBackward>)\n",
            "tensor(0.7528, grad_fn=<NllLossBackward>)\n",
            "tensor(0.7383, grad_fn=<NllLossBackward>)\n",
            "tensor(0.7268, grad_fn=<NllLossBackward>)\n",
            "tensor(0.7155, grad_fn=<NllLossBackward>)\n",
            "tensor(0.7065, grad_fn=<NllLossBackward>)\n",
            "tensor(0.6988, grad_fn=<NllLossBackward>)\n",
            "tensor(0.6913, grad_fn=<NllLossBackward>)\n",
            "tensor(0.6850, grad_fn=<NllLossBackward>)\n",
            "tensor(0.6780, grad_fn=<NllLossBackward>)\n",
            "tensor(0.6704, grad_fn=<NllLossBackward>)\n",
            "tensor(0.6628, grad_fn=<NllLossBackward>)\n",
            "tensor(0.6544, grad_fn=<NllLossBackward>)\n",
            "tensor(0.6456, grad_fn=<NllLossBackward>)\n",
            "tensor(0.6372, grad_fn=<NllLossBackward>)\n",
            "tensor(0.6301, grad_fn=<NllLossBackward>)\n",
            "tensor(0.6234, grad_fn=<NllLossBackward>)\n",
            "tensor(0.6169, grad_fn=<NllLossBackward>)\n",
            "tensor(0.6108, grad_fn=<NllLossBackward>)\n",
            "tensor(0.6052, grad_fn=<NllLossBackward>)\n",
            "tensor(0.6001, grad_fn=<NllLossBackward>)\n",
            "tensor(0.5952, grad_fn=<NllLossBackward>)\n",
            "tensor(0.5907, grad_fn=<NllLossBackward>)\n",
            "tensor(0.5859, grad_fn=<NllLossBackward>)\n",
            "tensor(0.5804, grad_fn=<NllLossBackward>)\n",
            "tensor(0.5744, grad_fn=<NllLossBackward>)\n",
            "tensor(0.5695, grad_fn=<NllLossBackward>)\n",
            "tensor(0.5655, grad_fn=<NllLossBackward>)\n",
            "tensor(0.5608, grad_fn=<NllLossBackward>)\n",
            "tensor(0.5549, grad_fn=<NllLossBackward>)\n",
            "tensor(0.5489, grad_fn=<NllLossBackward>)\n",
            "tensor(0.5438, grad_fn=<NllLossBackward>)\n",
            "tensor(0.5395, grad_fn=<NllLossBackward>)\n",
            "tensor(0.5353, grad_fn=<NllLossBackward>)\n",
            "tensor(0.5309, grad_fn=<NllLossBackward>)\n",
            "tensor(0.5253, grad_fn=<NllLossBackward>)\n",
            "tensor(0.5197, grad_fn=<NllLossBackward>)\n",
            "tensor(0.5149, grad_fn=<NllLossBackward>)\n",
            "tensor(0.5110, grad_fn=<NllLossBackward>)\n",
            "tensor(0.5077, grad_fn=<NllLossBackward>)\n",
            "tensor(0.5048, grad_fn=<NllLossBackward>)\n",
            "tensor(0.5022, grad_fn=<NllLossBackward>)\n",
            "tensor(0.4980, grad_fn=<NllLossBackward>)\n",
            "tensor(0.4930, grad_fn=<NllLossBackward>)\n",
            "tensor(0.4884, grad_fn=<NllLossBackward>)\n",
            "tensor(0.4854, grad_fn=<NllLossBackward>)\n",
            "tensor(0.4836, grad_fn=<NllLossBackward>)\n",
            "tensor(0.4821, grad_fn=<NllLossBackward>)\n",
            "tensor(0.4806, grad_fn=<NllLossBackward>)\n",
            "tensor(0.4766, grad_fn=<NllLossBackward>)\n",
            "tensor(0.4721, grad_fn=<NllLossBackward>)\n",
            "tensor(0.4691, grad_fn=<NllLossBackward>)\n",
            "tensor(0.4675, grad_fn=<NllLossBackward>)\n",
            "tensor(0.4664, grad_fn=<NllLossBackward>)\n",
            "tensor(0.4651, grad_fn=<NllLossBackward>)\n",
            "tensor(0.4628, grad_fn=<NllLossBackward>)\n",
            "tensor(0.4589, grad_fn=<NllLossBackward>)\n",
            "tensor(0.4559, grad_fn=<NllLossBackward>)\n",
            "tensor(0.4542, grad_fn=<NllLossBackward>)\n",
            "tensor(0.4529, grad_fn=<NllLossBackward>)\n",
            "tensor(0.4518, grad_fn=<NllLossBackward>)\n",
            "tensor(0.4500, grad_fn=<NllLossBackward>)\n",
            "tensor(0.4474, grad_fn=<NllLossBackward>)\n",
            "tensor(0.4446, grad_fn=<NllLossBackward>)\n",
            "tensor(0.4425, grad_fn=<NllLossBackward>)\n",
            "tensor(0.4406, grad_fn=<NllLossBackward>)\n",
            "tensor(0.4392, grad_fn=<NllLossBackward>)\n",
            "tensor(0.4384, grad_fn=<NllLossBackward>)\n",
            "tensor(0.4374, grad_fn=<NllLossBackward>)\n",
            "tensor(0.4366, grad_fn=<NllLossBackward>)\n",
            "tensor(0.4354, grad_fn=<NllLossBackward>)\n",
            "tensor(0.4336, grad_fn=<NllLossBackward>)\n",
            "tensor(0.4304, grad_fn=<NllLossBackward>)\n",
            "tensor(0.4277, grad_fn=<NllLossBackward>)\n",
            "tensor(0.4255, grad_fn=<NllLossBackward>)\n",
            "tensor(0.4242, grad_fn=<NllLossBackward>)\n",
            "tensor(0.4237, grad_fn=<NllLossBackward>)\n",
            "tensor(0.4231, grad_fn=<NllLossBackward>)\n",
            "tensor(0.4223, grad_fn=<NllLossBackward>)\n",
            "tensor(0.4209, grad_fn=<NllLossBackward>)\n",
            "tensor(0.4190, grad_fn=<NllLossBackward>)\n"
          ],
          "name": "stdout"
        },
        {
          "output_type": "execute_result",
          "data": {
            "text/plain": [
              "[<matplotlib.lines.Line2D at 0x7fdde8b97f98>]"
            ]
          },
          "metadata": {
            "tags": []
          },
          "execution_count": 23
        },
        {
          "output_type": "display_data",
          "data": {
            "image/png": "[encoded data removed]",
            "text/plain": [
              "<Figure size 432x288 with 1 Axes>"
            ]
          },
          "metadata": {
            "tags": []
          }
        }
      ]
    },
    {
      "cell_type": "markdown",
      "metadata": {
        "colab_type": "text",
        "id": "sYNbMFVW8RuO"
      },
      "source": [
        "## Printing the Least Error while training"
      ]
    },
    {
      "cell_type": "code",
      "metadata": {
        "colab_type": "code",
        "id": "1MFgjRctUL2o",
        "outputId": "2b9147ab-e147-4a08-e343-9538d19017e1",
        "colab": {
          "base_uri": "https://localhost:8080/",
          "height": 34
        }
      },
      "source": [
        "print(err[-1])"
      ],
      "execution_count": 0,
      "outputs": [
        {
          "output_type": "stream",
          "text": [
            "tensor(0.4190, grad_fn=<NllLossBackward>)\n"
          ],
          "name": "stdout"
        }
      ]
    },
    {
      "cell_type": "markdown",
      "metadata": {
        "colab_type": "text",
        "id": "UQDY-tR58ZzS"
      },
      "source": [
        "## Converting Validation Data into Tensor then Variable"
      ]
    },
    {
      "cell_type": "code",
      "metadata": {
        "colab_type": "code",
        "id": "EzX03lW-erIN",
        "colab": {}
      },
      "source": [
        "X_val = torch.Tensor(X_val)\n",
        "X_val = Variable(X_val, requires_grad = True).type(torch.FloatTensor)"
      ],
      "execution_count": 0,
      "outputs": []
    },
    {
      "cell_type": "markdown",
      "metadata": {
        "colab_type": "text",
        "id": "wpL8XyZv8pKC"
      },
      "source": [
        "## Testing our Model using Validation Dataset"
      ]
    },
    {
      "cell_type": "code",
      "metadata": {
        "colab_type": "code",
        "id": "dQl0Bc7LkD-A",
        "outputId": "77036878-296b-4b4e-e069-953ccfb69a7a",
        "colab": {
          "base_uri": "https://localhost:8080/",
          "height": 89
        }
      },
      "source": [
        "out_val = net(X_val)\n",
        "\n",
        "print(type(out_val))"
      ],
      "execution_count": 0,
      "outputs": [
        {
          "output_type": "stream",
          "text": [
            "<class 'torch.Tensor'>\n"
          ],
          "name": "stdout"
        },
        {
          "output_type": "stream",
          "text": [
            "/usr/local/lib/python3.6/dist-packages/ipykernel_launcher.py:13: UserWarning: Implicit dimension choice for log_softmax has been deprecated. Change the call to include dim=X as an argument.\n",
            "  del sys.path[0]\n"
          ],
          "name": "stderr"
        }
      ]
    },
    {
      "cell_type": "markdown",
      "metadata": {
        "colab_type": "text",
        "id": "sA1thaN_8_8c"
      },
      "source": [
        "## Selecting the class with highest Probability, as that would be our Final Prediction"
      ]
    },
    {
      "cell_type": "code",
      "metadata": {
        "colab_type": "code",
        "id": "0G134c8AkLYd",
        "outputId": "2093605f-843c-45f1-c5de-9867c23e439a",
        "colab": {
          "base_uri": "https://localhost:8080/",
          "height": 52
        }
      },
      "source": [
        "out_final = out_val.data.numpy().argmax(axis=1)\n",
        "\n",
        "print(out_final.shape)\n",
        "print(out_final[:10])"
      ],
      "execution_count": 0,
      "outputs": [
        {
          "output_type": "stream",
          "text": [
            "(1000,)\n",
            "[2 0 2 2 1 0 2 0 1 2]\n"
          ],
          "name": "stdout"
        }
      ]
    },
    {
      "cell_type": "markdown",
      "metadata": {
        "colab_type": "text",
        "id": "SeNCxGsw9WSt"
      },
      "source": [
        "## Getting Accuracy on Validation Dataset"
      ]
    },
    {
      "cell_type": "code",
      "metadata": {
        "colab_type": "code",
        "id": "vXIt77Ope3Ci",
        "colab": {}
      },
      "source": [
        "acc = ((out_final == Y_val).sum()/ (X_val.shape[0])) * 100"
      ],
      "execution_count": 0,
      "outputs": []
    },
    {
      "cell_type": "markdown",
      "metadata": {
        "colab_type": "text",
        "id": "syMosokg9itv"
      },
      "source": [
        "## Printing Accuracy"
      ]
    },
    {
      "cell_type": "code",
      "metadata": {
        "colab_type": "code",
        "id": "o_V7iQ7Te8zz",
        "outputId": "4a7609d4-c4e7-478d-8563-c4fa46a0fcd6",
        "colab": {
          "base_uri": "https://localhost:8080/",
          "height": 34
        }
      },
      "source": [
        "print(acc)"
      ],
      "execution_count": 0,
      "outputs": [
        {
          "output_type": "stream",
          "text": [
            "81.0\n"
          ],
          "name": "stdout"
        }
      ]
    },
    {
      "cell_type": "markdown",
      "metadata": {
        "colab_type": "text",
        "id": "dWN4oOtN9lEe"
      },
      "source": [
        "## Opening The Testing File in Read Mode and loading the Data in to \"test\" file"
      ]
    },
    {
      "cell_type": "code",
      "metadata": {
        "colab_type": "code",
        "id": "yWbGvqE6iOCP",
        "outputId": "7c15dadb-7c83-43fe-861f-0bd52e097115",
        "colab": {
          "base_uri": "https://localhost:8080/",
          "height": 34
        }
      },
      "source": [
        "with open('test_image.pkl','rb') as f:\n",
        "  test = pickle.load(f)\n",
        "\n",
        "type(test)"
      ],
      "execution_count": 0,
      "outputs": [
        {
          "output_type": "execute_result",
          "data": {
            "text/plain": [
              "list"
            ]
          },
          "metadata": {
            "tags": []
          },
          "execution_count": 30
        }
      ]
    },
    {
      "cell_type": "markdown",
      "metadata": {
        "colab_type": "text",
        "id": "7zL1_DZD-PPj"
      },
      "source": [
        "## Converting list \"test\" to Array"
      ]
    },
    {
      "cell_type": "code",
      "metadata": {
        "colab_type": "code",
        "id": "jvBJFOX5t_cS",
        "outputId": "0e64fbc4-6364-4d9e-c1dc-323d61fec1b6",
        "colab": {
          "base_uri": "https://localhost:8080/",
          "height": 34
        }
      },
      "source": [
        "test_dataset = np.array(test)\n",
        "print(type(test_dataset))"
      ],
      "execution_count": 0,
      "outputs": [
        {
          "output_type": "stream",
          "text": [
            "<class 'numpy.ndarray'>\n"
          ],
          "name": "stdout"
        }
      ]
    },
    {
      "cell_type": "code",
      "metadata": {
        "colab_type": "code",
        "id": "bTKE4XAtAhCl",
        "outputId": "2a751f6c-e378-4226-dfbb-0bfec78bbc56",
        "colab": {
          "base_uri": "https://localhost:8080/",
          "height": 34
        }
      },
      "source": [
        "print(test_dataset.shape)"
      ],
      "execution_count": 0,
      "outputs": [
        {
          "output_type": "stream",
          "text": [
            "(2000, 784)\n"
          ],
          "name": "stdout"
        }
      ]
    },
    {
      "cell_type": "markdown",
      "metadata": {
        "colab_type": "text",
        "id": "ZIzmDmAx-hQi"
      },
      "source": [
        "## Normalizing Test Dataset and converting it to Tensor and then to Variable"
      ]
    },
    {
      "cell_type": "code",
      "metadata": {
        "colab_type": "code",
        "id": "oSHS6l2puPQ8",
        "outputId": "fcf11567-53d9-4bb0-d34a-a20aa77e1715",
        "colab": {
          "base_uri": "https://localhost:8080/",
          "height": 34
        }
      },
      "source": [
        "test_ds = test_dataset[:,:] / 255.0\n",
        "\n",
        "test_ds = torch.Tensor(test_ds)\n",
        "test_ds = Variable(test_ds, requires_grad = True).type(torch.FloatTensor)\n",
        "\n",
        "print(type(test_ds))"
      ],
      "execution_count": 0,
      "outputs": [
        {
          "output_type": "stream",
          "text": [
            "<class 'torch.Tensor'>\n"
          ],
          "name": "stdout"
        }
      ]
    },
    {
      "cell_type": "markdown",
      "metadata": {
        "colab_type": "text",
        "id": "s8oJs-pL-n4B"
      },
      "source": [
        "## Passing our Test Dataset to Model and storing output in \"out_test\""
      ]
    },
    {
      "cell_type": "code",
      "metadata": {
        "colab_type": "code",
        "id": "eaKSQOvqvEyg",
        "outputId": "fa747cfe-876f-41e9-ea6e-905abaadfef6",
        "colab": {
          "base_uri": "https://localhost:8080/",
          "height": 89
        }
      },
      "source": [
        "out_test = net(test_ds)\n",
        "\n",
        "print(type(out_test))"
      ],
      "execution_count": 0,
      "outputs": [
        {
          "output_type": "stream",
          "text": [
            "<class 'torch.Tensor'>\n"
          ],
          "name": "stdout"
        },
        {
          "output_type": "stream",
          "text": [
            "/usr/local/lib/python3.6/dist-packages/ipykernel_launcher.py:13: UserWarning: Implicit dimension choice for log_softmax has been deprecated. Change the call to include dim=X as an argument.\n",
            "  del sys.path[0]\n"
          ],
          "name": "stderr"
        }
      ]
    },
    {
      "cell_type": "markdown",
      "metadata": {
        "colab_type": "text",
        "id": "xtYnFvjS-_a6"
      },
      "source": [
        "## Selecting the class with highest Probability, as that would be our Final Prediction"
      ]
    },
    {
      "cell_type": "code",
      "metadata": {
        "colab_type": "code",
        "id": "xh0Pxr5IvlZQ",
        "outputId": "c4a3a500-5eed-49cc-d7a3-bdff08a6d335",
        "colab": {
          "base_uri": "https://localhost:8080/",
          "height": 86
        }
      },
      "source": [
        "out_final = out_test.data.numpy().argmax(axis=1)\n",
        "\n",
        "print(out_final.shape)\n",
        "print(out_final[:100])"
      ],
      "execution_count": 0,
      "outputs": [
        {
          "output_type": "stream",
          "text": [
            "(2000,)\n",
            "[0 0 0 0 0 0 0 0 0 0 0 0 3 0 0 0 0 3 0 0 0 0 0 0 0 0 3 0 0 0 0 0 0 0 2 0 0\n",
            " 3 0 0 3 0 0 0 0 0 3 1 0 0 0 0 0 0 0 0 2 2 0 0 2 2 0 0 2 0 0 0 0 0 0 0 0 0\n",
            " 0 0 0 0 0 0 0 0 0 0 0 0 0 2 0 3 0 2 2 0 0 0 0 3 3 3]\n"
          ],
          "name": "stdout"
        }
      ]
    },
    {
      "cell_type": "code",
      "metadata": {
        "colab_type": "code",
        "id": "ujNVJEztvsXc",
        "outputId": "f756ec6e-6126-4b8d-9253-d6ea815ae3e2",
        "colab": {
          "base_uri": "https://localhost:8080/",
          "height": 52
        }
      },
      "source": [
        "print(type(out_final))\n",
        "print(np.unique(out_final, return_counts = True))"
      ],
      "execution_count": 0,
      "outputs": [
        {
          "output_type": "stream",
          "text": [
            "<class 'numpy.ndarray'>\n",
            "(array([0, 1, 2, 3]), array([485, 496, 514, 505]))\n"
          ],
          "name": "stdout"
        }
      ]
    },
    {
      "cell_type": "markdown",
      "metadata": {
        "colab_type": "text",
        "id": "J7r-J24nqSoX"
      },
      "source": [
        "## Converting labels back to their original form i.e., from [0,1,2,3] to [0,2,3,6]"
      ]
    },
    {
      "cell_type": "code",
      "metadata": {
        "colab_type": "code",
        "id": "dkgPXwRDDoUO",
        "colab": {}
      },
      "source": [
        "for ix in range(2000):\n",
        "  if out_final[ix] == 1:\n",
        "    out_final[ix] = 2\n",
        "    \n",
        "  elif out_final[ix] == 2:\n",
        "    out_final[ix] = 3\n",
        "    \n",
        "  elif out_final[ix] == 3:\n",
        "    out_final[ix] = 6"
      ],
      "execution_count": 0,
      "outputs": []
    },
    {
      "cell_type": "code",
      "metadata": {
        "colab_type": "code",
        "id": "2_fJlfNt_d6U",
        "outputId": "8ca17965-1f32-4200-f650-01fe4e0a1afb",
        "colab": {
          "base_uri": "https://localhost:8080/",
          "height": 34
        }
      },
      "source": [
        "print(np.unique(out_final,return_counts = True))"
      ],
      "execution_count": 0,
      "outputs": [
        {
          "output_type": "stream",
          "text": [
            "(array([0, 2, 3, 6]), array([485, 496, 514, 505]))\n"
          ],
          "name": "stdout"
        }
      ]
    },
    {
      "cell_type": "code",
      "metadata": {
        "colab_type": "code",
        "id": "pWLJIaVKB7ka",
        "outputId": "41b9d84d-1af2-49b0-f11a-2d5795221699",
        "colab": {
          "base_uri": "https://localhost:8080/",
          "height": 503
        }
      },
      "source": [
        "print(out_final[:1000])"
      ],
      "execution_count": 0,
      "outputs": [
        {
          "output_type": "stream",
          "text": [
            "[0 0 0 0 0 0 0 0 0 0 0 0 6 0 0 0 0 6 0 0 0 0 0 0 0 0 6 0 0 0 0 0 0 0 3 0 0\n",
            " 6 0 0 6 0 0 0 0 0 6 2 0 0 0 0 0 0 0 0 3 3 0 0 3 3 0 0 3 0 0 0 0 0 0 0 0 0\n",
            " 0 0 0 0 0 0 0 0 0 0 0 0 0 3 0 6 0 3 3 0 0 0 0 6 6 6 0 6 0 0 0 6 0 0 2 0 0\n",
            " 0 0 0 3 2 6 0 0 0 0 6 0 0 3 6 3 0 0 0 0 6 0 0 0 6 0 0 6 0 0 0 3 0 0 0 0 0\n",
            " 0 0 6 0 6 3 0 0 0 0 0 0 6 0 0 0 0 0 6 0 0 6 0 0 0 0 0 0 0 0 0 0 0 0 0 0 0\n",
            " 6 0 6 0 6 0 0 3 0 0 0 0 0 0 0 0 0 0 0 0 0 0 0 0 0 0 0 0 0 0 0 0 0 0 0 0 0\n",
            " 6 0 0 6 0 0 0 0 0 0 0 0 0 0 0 0 0 0 0 0 0 0 0 0 0 0 6 0 0 6 0 6 6 0 0 0 0\n",
            " 6 0 0 0 0 6 6 0 0 0 0 0 0 2 0 0 0 0 0 0 0 0 0 0 6 0 0 0 0 0 0 2 6 0 0 0 2\n",
            " 0 0 0 0 0 3 0 0 0 0 6 0 0 0 0 3 0 6 0 0 0 0 3 3 0 0 6 6 0 0 0 0 0 0 0 0 0\n",
            " 0 0 0 0 6 0 6 0 0 0 0 0 0 0 6 0 0 6 0 0 0 0 0 3 3 6 0 3 3 0 6 0 0 0 6 0 0\n",
            " 0 0 0 0 0 0 0 6 0 0 0 0 0 0 0 0 0 0 0 0 0 0 0 0 3 0 0 0 0 0 6 0 2 6 0 0 0\n",
            " 0 0 0 0 0 0 0 0 0 6 0 0 6 0 0 0 0 0 2 3 0 0 0 6 0 0 0 6 0 6 0 3 3 0 0 0 0\n",
            " 0 0 0 0 0 0 0 0 0 6 0 0 0 0 0 0 0 0 0 0 0 0 0 0 6 0 6 0 0 0 3 0 0 0 6 3 0\n",
            " 0 0 0 0 0 0 0 0 0 0 0 0 6 6 0 6 0 0 0 2 2 2 2 2 6 2 2 3 2 2 2 2 2 2 2 2 2\n",
            " 2 2 2 2 2 2 2 2 2 2 2 2 3 6 2 2 6 2 2 2 2 2 2 2 6 2 2 6 2 2 2 2 0 2 2 2 6\n",
            " 2 2 2 2 2 2 2 2 2 2 2 2 2 2 2 2 2 2 6 2 2 2 2 2 2 2 2 2 2 2 6 2 2 2 2 0 2\n",
            " 6 2 2 2 2 2 2 2 6 2 2 2 2 2 2 2 6 2 2 2 2 2 2 2 6 2 2 2 2 2 2 2 2 2 2 6 2\n",
            " 6 2 2 2 2 2 2 2 6 2 2 2 2 2 2 2 2 3 2 2 2 2 2 2 2 2 2 6 2 2 6 2 2 2 2 2 6\n",
            " 6 6 2 2 2 2 2 6 2 2 2 6 6 2 2 2 2 2 2 2 2 2 2 6 2 2 2 2 2 2 2 2 2 6 2 2 2\n",
            " 2 2 2 2 2 2 2 2 2 2 2 3 2 2 2 2 3 2 6 2 2 2 2 2 2 2 2 2 2 6 2 2 2 2 2 2 2\n",
            " 2 2 2 6 2 2 2 2 2 2 6 2 2 2 2 2 2 2 6 2 2 2 2 6 2 2 2 2 2 2 2 2 2 2 2 2 2\n",
            " 2 2 6 2 2 2 2 2 2 2 2 2 2 2 2 2 2 2 2 6 2 6 2 2 2 6 2 6 2 6 2 2 2 2 2 2 2\n",
            " 2 6 2 2 2 6 2 2 2 2 2 2 2 2 2 2 2 2 6 3 3 2 2 2 2 6 2 2 2 2 2 6 2 2 2 6 2\n",
            " 2 3 2 2 2 2 2 2 2 2 3 2 2 2 2 3 2 2 2 6 6 2 0 6 2 2 2 2 2 2 2 2 2 2 0 2 2\n",
            " 2 2 6 2 2 2 2 6 6 2 2 2 2 3 2 2 2 2 2 2 2 2 2 2 2 2 2 2 2 3 2 2 2 2 2 2 2\n",
            " 6 2 2 2 6 2 6 2 2 2 0 2 2 2 2 6 2 2 2 6 2 2 2 2 2 2 2 2 2 2 2 2 2 2 2 6 2\n",
            " 2 2 2 2 2 2 2 2 2 2 2 2 2 2 2 2 2 2 2 2 2 6 2 6 2 2 2 6 6 2 2 2 2 2 2 6 2\n",
            " 2]\n"
          ],
          "name": "stdout"
        }
      ]
    },
    {
      "cell_type": "code",
      "metadata": {
        "colab_type": "code",
        "id": "1jktEGYQEO9f",
        "outputId": "f4ecd25f-bf4e-4cf1-cbec-1bb7dcdb7b87",
        "colab": {
          "base_uri": "https://localhost:8080/",
          "height": 52
        }
      },
      "source": [
        "out_final = pd.DataFrame(out_final)\n",
        "print(type(out_final))\n",
        "print(out_final.shape)"
      ],
      "execution_count": 0,
      "outputs": [
        {
          "output_type": "stream",
          "text": [
            "<class 'pandas.core.frame.DataFrame'>\n",
            "(2000, 1)\n"
          ],
          "name": "stdout"
        }
      ]
    },
    {
      "cell_type": "code",
      "metadata": {
        "colab_type": "code",
        "id": "SsWl-KG2rgI2",
        "colab": {}
      },
      "source": [
        "out_final.to_csv('./Ayush_Kumar_Tripathi.csv',header = True, index = False)"
      ],
      "execution_count": 0,
      "outputs": []
    },
    {
      "cell_type": "code",
      "metadata": {
        "colab_type": "code",
        "id": "7mL2ZGBAsDWa",
        "colab": {}
      },
      "source": [
        ""
      ],
      "execution_count": 0,
      "outputs": []
    }
  ]
}